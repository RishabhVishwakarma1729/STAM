{
 "cells": [
  {
   "cell_type": "markdown",
   "id": "c355bc44",
   "metadata": {},
   "source": [
    "# Function Design for Integration"
   ]
  },
  {
   "cell_type": "markdown",
   "id": "1cb4c3a3",
   "metadata": {},
   "source": [
    "1. Data Ingestion Functions\n",
    "- These functions will handle reading data from various sources such as Excel, CSV, and SQL Server."
   ]
  },
  {
   "cell_type": "markdown",
   "id": "e002e96a",
   "metadata": {},
   "source": [
    "### Function to Read Excel or CSV Data:"
   ]
  },
  {
   "cell_type": "code",
   "execution_count": 1,
   "id": "d1bb4034",
   "metadata": {},
   "outputs": [],
   "source": [
    "def read_file(file_path, file_type):\n",
    "    \"\"\"\n",
    "    Reads data from an Excel or CSV file.\n",
    "\n",
    "    Parameters:\n",
    "    file_path (str): The path to the file.\n",
    "    file_type (str): The type of file ('excel' or 'csv').\n",
    "\n",
    "    Returns:\n",
    "    DataFrame: A pandas DataFrame containing the file data.\n",
    "    \"\"\"\n",
    "    try:\n",
    "        if file_type.lower() == 'excel':\n",
    "            # Reading Excel file\n",
    "            df = pd.read_excel(file_path)\n",
    "        elif file_type.lower() == 'csv':\n",
    "            # Reading CSV file\n",
    "            df = pd.read_csv(file_path)\n",
    "        else:\n",
    "            print(\"Unsupported file type. Please choose 'excel' or 'csv'.\")\n",
    "            return None\n",
    "        return df\n",
    "    except FileNotFoundError:\n",
    "        print(f\"File not found. Please check if the file exists at the path: {file_path}\")\n",
    "        return None\n",
    "    except Exception as e:\n",
    "        print(f\"Error reading {file_type} file: {e}\")\n",
    "        return None\n"
   ]
  },
  {
   "cell_type": "markdown",
   "id": "1756113a",
   "metadata": {},
   "source": [
    "#### Describing Data"
   ]
  },
  {
   "cell_type": "code",
   "execution_count": 2,
   "id": "1ccb23d0",
   "metadata": {},
   "outputs": [],
   "source": [
    "def describe_data(df):\n",
    "    \"\"\"\n",
    "    Describes the data using basic information and statistical summary.\n",
    "\n",
    "    Parameters:\n",
    "    df (pd.DataFrame): The DataFrame to describe.\n",
    "\n",
    "    Returns:\n",
    "    None: Prints the info and description of the DataFrame.\n",
    "    \"\"\"\n",
    "    print(df.info())\n",
    "    print(df.describe())\n"
   ]
  },
  {
   "cell_type": "markdown",
   "id": "7f8abbf3",
   "metadata": {},
   "source": [
    "### Function to Rename Columns:"
   ]
  },
  {
   "cell_type": "code",
   "execution_count": 3,
   "id": "0f3d41c0",
   "metadata": {},
   "outputs": [],
   "source": [
    "def rename_columns(df, new_columns):\n",
    "    \"\"\"\n",
    "    Renames columns in a DataFrame.\n",
    "\n",
    "    Parameters:\n",
    "    df (DataFrame): The input pandas DataFrame.\n",
    "    new_columns (dict): A dictionary mapping old column names to new column names.\n",
    "\n",
    "    Returns:\n",
    "    DataFrame: A pandas DataFrame with renamed columns.\n",
    "    \"\"\"\n",
    "    try:\n",
    "        df = df.rename(columns=new_columns)\n",
    "        return df\n",
    "    except Exception as e:\n",
    "        print(f\"Error renaming columns: {e}\")\n",
    "        return df\n"
   ]
  },
  {
   "cell_type": "markdown",
   "id": "2461f7f0",
   "metadata": {},
   "source": [
    "### Function to Change Data Types:"
   ]
  },
  {
   "cell_type": "code",
   "execution_count": 4,
   "id": "e4e51117",
   "metadata": {},
   "outputs": [],
   "source": [
    "def change_data_types(df, column_types):\n",
    "    \"\"\"\n",
    "    Changes the data types of specified columns in a DataFrame.\n",
    "\n",
    "    Parameters:\n",
    "    df (DataFrame): The input pandas DataFrame.\n",
    "    column_types (dict): A dictionary mapping column names to target data types.\n",
    "\n",
    "    Returns:\n",
    "    DataFrame: A pandas DataFrame with updated data types.\n",
    "    \"\"\"\n",
    "    try:\n",
    "        df = df.astype(column_types)\n",
    "        return df\n",
    "    except Exception as e:\n",
    "        print(f\"Error changing data types: {e}\")\n",
    "        return df\n"
   ]
  },
  {
   "cell_type": "markdown",
   "id": "960c92a4",
   "metadata": {},
   "source": [
    "3. Data Transformation Functions :\n",
    "These functions will handle data transformation tasks such as binning, outlier handling, and sampling."
   ]
  },
  {
   "cell_type": "markdown",
   "id": "50d4b56e",
   "metadata": {},
   "source": [
    "### Function for Bucketing Continuous Data:"
   ]
  },
  {
   "cell_type": "code",
   "execution_count": 5,
   "id": "6287ad3a",
   "metadata": {},
   "outputs": [],
   "source": [
    "def bin_data(df, column, bins, labels):\n",
    "    \"\"\"\n",
    "    Bins data in a DataFrame column.\n",
    "\n",
    "    Parameters:\n",
    "    df (DataFrame): The input pandas DataFrame.\n",
    "    column (str): The column to bin.\n",
    "    bins (list): The bin edges.\n",
    "    labels (list): The labels for the bins.\n",
    "\n",
    "    Returns:\n",
    "    DataFrame: A pandas DataFrame with the binned data.\n",
    "    \"\"\"\n",
    "    try:\n",
    "        df[f'{column}_binned'] = pd.cut(df[column], bins=bins, labels=labels)\n",
    "        return df\n",
    "    except Exception as e:\n",
    "        print(f\"Error binning data: {e}\")\n",
    "        return df\n"
   ]
  },
  {
   "cell_type": "code",
   "execution_count": 6,
   "id": "1fd4237e",
   "metadata": {},
   "outputs": [],
   "source": [
    "def replace_values(df, column_name, to_replace, value):\n",
    "    \"\"\"\n",
    "    Replaces specific values in a column.\n",
    "\n",
    "    Parameters:\n",
    "    df (pd.DataFrame): The DataFrame containing the data.\n",
    "    column_name (str): The name of the column to replace values in.\n",
    "    to_replace (any): The value to replace.\n",
    "    value (any): The new value to replace with.\n",
    "\n",
    "    Returns:\n",
    "    pd.DataFrame: A DataFrame with the replaced values.\n",
    "    \"\"\"\n",
    "    df[column_name] = df[column_name].replace(to_replace, value)\n",
    "    return df"
   ]
  },
  {
   "cell_type": "markdown",
   "id": "2223f3b8",
   "metadata": {},
   "source": [
    "#### Data Cleaning Functions :"
   ]
  },
  {
   "cell_type": "markdown",
   "id": "8e7b12dd",
   "metadata": {},
   "source": [
    "These functions will handle tasks such as handling missing values, renaming columns, and changing data types."
   ]
  },
  {
   "cell_type": "code",
   "execution_count": 7,
   "id": "d7cfe169",
   "metadata": {},
   "outputs": [],
   "source": [
    "def handle_missing_values(df, strategy='mean'):\n",
    "    \"\"\"\n",
    "    Handles missing values in a DataFrame.\n",
    "\n",
    "    Parameters:\n",
    "    df (DataFrame): The input pandas DataFrame.\n",
    "    strategy (str): The strategy to use for handling missing values ('mean', 'median', 'mode', 'drop').\n",
    "\n",
    "    Returns:\n",
    "    DataFrame: A pandas DataFrame with missing values handled.\n",
    "    \"\"\"\n",
    "    if strategy == 'mean':\n",
    "        return df.fillna(df.mean())\n",
    "    elif strategy == 'median':\n",
    "        return df.fillna(df.median())\n",
    "    elif strategy == 'mode':\n",
    "        return df.fillna(df.mode().iloc[0])\n",
    "    elif strategy == 'drop':\n",
    "        return df.dropna()\n",
    "    else:\n",
    "        print(\"Invalid strategy. Choose from 'mean', 'median', 'mode', or 'drop'.\")\n",
    "        return df"
   ]
  },
  {
   "cell_type": "markdown",
   "id": "a9610a09",
   "metadata": {},
   "source": [
    "### Function to Handle Outliers:"
   ]
  },
  {
   "cell_type": "code",
   "execution_count": 8,
   "id": "ddff54e8",
   "metadata": {},
   "outputs": [],
   "source": [
    "def handle_outliers(df, column, method='iqr'):\n",
    "    \"\"\"\n",
    "    Handles outliers in a DataFrame column.\n",
    "\n",
    "    Parameters:\n",
    "    df (DataFrame): The input pandas DataFrame.\n",
    "    column (str): The column to handle outliers in.\n",
    "    method (str): The method to use ('iqr' for Interquartile Range, 'zscore' for Z-score).\n",
    "\n",
    "    Returns:\n",
    "    DataFrame: A pandas DataFrame with outliers handled.\n",
    "    \"\"\"\n",
    "    if method == 'iqr':\n",
    "        Q1 = df[column].quantile(0.25)\n",
    "        Q3 = df[column].quantile(0.75)\n",
    "        IQR = Q3 - Q1\n",
    "        df = df[(df[column] >= (Q1 - 1.5 * IQR)) & (df[column] <= (Q3 + 1.5 * IQR))]\n",
    "    elif method == 'zscore':\n",
    "        from scipy import stats\n",
    "        df = df[(np.abs(stats.zscore(df[column])) < 3)]\n",
    "    else:\n",
    "        print(\"Invalid method. Choose 'iqr' or 'zscore'.\")\n",
    "    return df\n"
   ]
  },
  {
   "cell_type": "markdown",
   "id": "ec22cd78",
   "metadata": {},
   "source": [
    "### Function for Sampling Data:"
   ]
  },
  {
   "cell_type": "code",
   "execution_count": 9,
   "id": "032975c9",
   "metadata": {},
   "outputs": [],
   "source": [
    "def sample_data(df, n, method='random'):\n",
    "    \"\"\"\n",
    "    Samples data from a DataFrame.\n",
    "\n",
    "    Parameters:\n",
    "    df (DataFrame): The input pandas DataFrame.\n",
    "    n (int): The number of samples to draw.\n",
    "    method (str): The sampling method ('random' or 'stratified').\n",
    "\n",
    "    Returns:\n",
    "    DataFrame: A pandas DataFrame with sampled data.\n",
    "    \"\"\"\n",
    "    if method == 'random':\n",
    "        return df.sample(n=n, random_state=42)\n",
    "    elif method == 'stratified':\n",
    "        # Example for stratified sampling based on a column named 'strata'\n",
    "        return df.groupby('strata').apply(lambda x: x.sample(n=n, random_state=42)).reset_index(drop=True)\n",
    "    else:\n",
    "        print(\"Invalid method. Choose 'random' or 'stratified'.\")\n",
    "        return df\n"
   ]
  },
  {
   "cell_type": "markdown",
   "id": "19f2a7a7",
   "metadata": {},
   "source": [
    "#### Function to subset data based on a specific condition"
   ]
  },
  {
   "cell_type": "code",
   "execution_count": 10,
   "id": "2b1b9482",
   "metadata": {},
   "outputs": [],
   "source": [
    "def sub_setting(df, condition):\n",
    "    \"\"\"\n",
    "    Subsets the DataFrame based on a condition.\n",
    "\n",
    "    Parameters:\n",
    "    df (pd.DataFrame): The DataFrame to subset.\n",
    "    condition (str): The condition to apply for subsetting.\n",
    "\n",
    "    Returns:\n",
    "    pd.DataFrame: A subsetted DataFrame.\n",
    "    \"\"\"\n",
    "    return df.query(condition)"
   ]
  },
  {
   "cell_type": "markdown",
   "id": "ee472d9a",
   "metadata": {},
   "source": [
    "#### Function to create new columns"
   ]
  },
  {
   "cell_type": "code",
   "execution_count": 11,
   "id": "f0bae20d",
   "metadata": {},
   "outputs": [],
   "source": [
    "def create_new_column(df, new_column_name, calculation):\n",
    "    \"\"\"\n",
    "    Creates a new column in the DataFrame based on a calculation.\n",
    "\n",
    "    Parameters:\n",
    "    df (pd.DataFrame): The DataFrame to add a new column to.\n",
    "    new_column_name (str): The name of the new column.\n",
    "    calculation (any): The calculation or data to populate the new column.\n",
    "\n",
    "    Returns:\n",
    "    pd.DataFrame: A DataFrame with the new column added.\n",
    "    \"\"\"\n",
    "    df[new_column_name] = calculation\n",
    "    return df"
   ]
  }
 ],
 "metadata": {
  "kernelspec": {
   "display_name": "Python 3 (ipykernel)",
   "language": "python",
   "name": "python3"
  },
  "language_info": {
   "codemirror_mode": {
    "name": "ipython",
    "version": 3
   },
   "file_extension": ".py",
   "mimetype": "text/x-python",
   "name": "python",
   "nbconvert_exporter": "python",
   "pygments_lexer": "ipython3",
   "version": "3.11.5"
  }
 },
 "nbformat": 4,
 "nbformat_minor": 5
}
