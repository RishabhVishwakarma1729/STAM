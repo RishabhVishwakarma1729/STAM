{
 "cells": [
  {
   "cell_type": "code",
   "execution_count": 1,
   "id": "4e605d74",
   "metadata": {},
   "outputs": [],
   "source": [
    "#Importing dependencies\n",
    "import pandas as pd"
   ]
  },
  {
   "cell_type": "code",
   "execution_count": 2,
   "id": "fbc9b89e",
   "metadata": {
    "scrolled": true
   },
   "outputs": [],
   "source": [
    "# Reusable Part\n",
    "def read_file(file_path, file_type):\n",
    "    \"\"\"\n",
    "    Reads data from an Excel or CSV file.\n",
    "\n",
    "    Parameters:\n",
    "    file_path (str): The path to the file.\n",
    "    file_type (str): The type of file ('excel' or 'csv').\n",
    "\n",
    "    Returns:\n",
    "    DataFrame: A pandas DataFrame containing the file data.\n",
    "    \"\"\"\n",
    "    try:\n",
    "        if file_type.lower() == 'excel':\n",
    "            # Reading Excel file\n",
    "            df = pd.read_excel(file_path)\n",
    "        elif file_type.lower() == 'csv':\n",
    "            # Reading CSV file\n",
    "            df = pd.read_csv(file_path)\n",
    "        else:\n",
    "            print(\"Unsupported file type. Please choose 'excel' or 'csv'.\")\n",
    "            return None\n",
    "        return df\n",
    "    except FileNotFoundError:\n",
    "        print(f\"File not found. Please check if the file exists at the path: {file_path}\")\n",
    "        return None\n",
    "    except Exception as e:\n",
    "        print(f\"Error reading {file_type} file: {e}\")\n",
    "        return None"
   ]
  },
  {
   "cell_type": "code",
   "execution_count": 3,
   "id": "8d2f899a",
   "metadata": {},
   "outputs": [
    {
     "name": "stdout",
     "output_type": "stream",
     "text": [
      "Enter the path to the file you want to read: C:\\Users\\Asus\\Desktop\\Rishabh\\Flowers.csv\n",
      "Enter the file type (excel or csv): csv\n",
      "Data successfully read! Here are the first 10 rows of the DataFrame:\n",
      "      Flower   Color  Price(USD)\n",
      "0       Rose     Red        3.50\n",
      "1       Lily   White        2.00\n",
      "2      Tulip  Yellow        1.75\n",
      "3      Daisy   White        1.25\n",
      "4  Sunflower  Yellow        2.25\n"
     ]
    }
   ],
   "source": [
    "#Testing Part\n",
    "# Prompting the user to enter the file path\n",
    "file_path = input(\"Enter the path to the file you want to read: \")\n",
    "    \n",
    "# Prompting the user to enter the file type\n",
    "file_type = input(\"Enter the file type (excel or csv): \")\n",
    "\n",
    "# Reading the specified file type\n",
    "data = read_file(file_path, file_type)\n",
    "\n",
    "# Checking if data was read successfully\n",
    "if data is not None:\n",
    "    print(\"Data successfully read! Here are the first 10 rows of the DataFrame:\")\n",
    "    # Displaying the first 10 rows of the DataFrame\n",
    "    print(data.head(10))\n",
    "else:\n",
    "    # Displaying an error message if the file cannot be read\n",
    "    print(\"Failed to read the file. Please check the file path and file type and try again.\")"
   ]
  }
 ],
 "metadata": {
  "kernelspec": {
   "display_name": "Python 3 (ipykernel)",
   "language": "python",
   "name": "python3"
  },
  "language_info": {
   "codemirror_mode": {
    "name": "ipython",
    "version": 3
   },
   "file_extension": ".py",
   "mimetype": "text/x-python",
   "name": "python",
   "nbconvert_exporter": "python",
   "pygments_lexer": "ipython3",
   "version": "3.11.5"
  }
 },
 "nbformat": 4,
 "nbformat_minor": 5
}
